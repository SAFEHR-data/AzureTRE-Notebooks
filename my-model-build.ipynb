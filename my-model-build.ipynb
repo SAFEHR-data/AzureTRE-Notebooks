{
 "cells": [
  {
   "cell_type": "markdown",
   "metadata": {},
   "source": [
    "# Select a Kernel\n",
    "\n",
    "Set the kernel to 'Python 3.10 - SDK v2' and then select the 'Authenticate' button (if shown). \n",
    "\n",
    "Update the values for: \n",
    "\n",
    " - SUBSCRIPTION\n",
    " - RESOURCE_GROUP\n",
    " - WS_NAME\n",
    "\n",
    "The values can be obtained using the dropdown menu. "
   ]
  },
  {
   "cell_type": "code",
   "execution_count": null,
   "metadata": {},
   "outputs": [],
   "source": [
    "from azure.ai.ml import MLClient\n",
    "from azure.identity import DefaultAzureCredential\n",
    "import os\n",
    "\n",
    "os.environ[\"APPLICATIONINSIGHTS_STATSBEAT_DISABLED_ALL\"] = \"true\"\n",
    "\n",
    "# authenticate\n",
    "credential = DefaultAzureCredential()\n",
    "\n",
    "SUBSCRIPTION = \"<SUBSCRIPTION_ID>\"\n",
    "RESOURCE_GROUP = \"<RESOURCE_GROUP>\"\n",
    "WS_NAME = \"<AML_WORKSPACE_NAME>\"\n",
    "# Get a handle to the workspace\n",
    "ml_client = MLClient(\n",
    "    credential=credential,\n",
    "    subscription_id=SUBSCRIPTION,\n",
    "    resource_group_name=RESOURCE_GROUP,\n",
    "    workspace_name=WS_NAME,\n",
    ")"
   ]
  },
  {
   "cell_type": "markdown",
   "metadata": {
    "vscode": {
     "languageId": "plaintext"
    }
   },
   "source": [
    "## Verifiy that a connection can be made"
   ]
  },
  {
   "cell_type": "code",
   "execution_count": null,
   "metadata": {},
   "outputs": [],
   "source": [
    "ws = ml_client.workspaces.get(WS_NAME)\n",
    "print(ws.location, \":\", ws.resource_group)"
   ]
  }
 ],
 "metadata": {
  "language_info": {
   "name": "python"
  }
 },
 "nbformat": 4,
 "nbformat_minor": 2
}
